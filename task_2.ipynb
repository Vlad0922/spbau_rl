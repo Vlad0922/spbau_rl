{
 "cells": [
  {
   "cell_type": "code",
   "execution_count": 1,
   "metadata": {},
   "outputs": [],
   "source": [
    "import numpy as np\n",
    "\n",
    "import itertools"
   ]
  },
  {
   "cell_type": "code",
   "execution_count": 2,
   "metadata": {},
   "outputs": [],
   "source": [
    "def left(x, y):\n",
    "    return x-1, y\n",
    "\n",
    "def right(x, y):\n",
    "    return x+1, y\n",
    "\n",
    "def up(x, y):\n",
    "    return x, y + 1\n",
    "\n",
    "def down(x, y):\n",
    "    return x, y - 1\n",
    "\n",
    "def stay(x, y):\n",
    "    return x, y"
   ]
  },
  {
   "cell_type": "code",
   "execution_count": 3,
   "metadata": {},
   "outputs": [],
   "source": [
    "class Cell(object):\n",
    "    def __init__(self, actions, default_value = 0.):\n",
    "        self.actions = {a:0. for a in actions}\n",
    "        self.update_policy()\n",
    "        self.value = default_value\n",
    "\n",
    "    def update_policy(self):\n",
    "        self.policy = max(self.actions.items(), key = lambda p: p[1])[0]\n",
    "\n",
    "\n",
    "class Grid(object):\n",
    "    def __init__(self, dim=10, default_value=0.):\n",
    "        self.dim = dim\n",
    "        \n",
    "        self.data = np.array([[None for _ in range(dim)] for _ in range(dim)])\n",
    "        \n",
    "        for x in range(1, dim - 1):\n",
    "            for y in range(1, dim - 1):\n",
    "                self.data[x][y] = Cell([left, right, up, down], default_value=default_value)\n",
    "                \n",
    "        for x in range(1, dim - 1):\n",
    "            self.data[x][0] = Cell([left, right, up], default_value=default_value)\n",
    "            self.data[x][dim - 1] = Cell([left, right, down], default_value=default_value)\n",
    "            \n",
    "        for y in range(1, dim - 1):\n",
    "            self.data[0][y] = Cell([right, up, down], default_value=default_value)\n",
    "            self.data[dim - 1][y] = Cell([left, up, down], default_value=default_value)\n",
    "            \n",
    "        self.data[0][0] = Cell([up, right], default_value=default_value)\n",
    "        self.data[dim-1][dim-1] = Cell([stay], default_value=100.)\n",
    "        self.data[0][dim - 1] = Cell([right, down], default_value=default_value)\n",
    "        self.data[dim - 1][0] = Cell([left, up], default_value=default_value)\n",
    "        \n",
    "        self.data[dim - 1][dim - 2].actions[up] = 100.\n",
    "        self.data[dim - 2][dim - 1].actions[right] = 100.\n",
    "        \n",
    "        self.data[dim - 1][dim - 2].update_policy()\n",
    "        self.data[dim - 2][dim - 1].update_policy()\n",
    "        \n",
    "    def best_path(self):\n",
    "        path = list()\n",
    "        x, y = 0, 0\n",
    "                \n",
    "        while not(x == self.dim - 1 and y == self.dim - 1):\n",
    "            path.append((x, y))\n",
    "            x, y = self.data[x, y].policy(x, y)\n",
    "        \n",
    "        path.append((x, y))\n",
    "        return path\n",
    "                \n",
    "        "
   ]
  },
  {
   "cell_type": "code",
   "execution_count": 4,
   "metadata": {},
   "outputs": [],
   "source": [
    "g = Grid(10)\n",
    "theta, disc = 1., 0.8"
   ]
  },
  {
   "cell_type": "code",
   "execution_count": 5,
   "metadata": {},
   "outputs": [],
   "source": [
    "def iter_values(grid, theta, disc):\n",
    "    def eval():\n",
    "        delta = -1.\n",
    "        for x in range(grid.dim):\n",
    "            for y in range(grid.dim):\n",
    "                c = grid.data[x, y]\n",
    "                \n",
    "                prev, act = c.value, c.policy\n",
    "                c.value = c.actions[act] + disc*grid.data[act(x, y)].value\n",
    "                delta = max(prev, abs(prev - c.value))\n",
    "                \n",
    "        return delta\n",
    "            \n",
    "    \n",
    "    n_iters = 0\n",
    "    \n",
    "    while eval() >= theta:\n",
    "        n_iters += 1\n",
    "        \n",
    "    return n_iters\n",
    "\n",
    "\n",
    "def iter_policies(grid, theta, disc):     \n",
    "    improving = True\n",
    "    n_iters = 0\n",
    "\n",
    "    while improving:\n",
    "        improving = False\n",
    "        iter_values(grid, theta, disc)\n",
    "        \n",
    "        for x in range(grid.dim):\n",
    "            for y in range(grid.dim):\n",
    "                c = grid.data[x, y]\n",
    "                best_policy = c.policy\n",
    "                \n",
    "                delta = -100500.\n",
    "                for act, reward in c.actions.items():\n",
    "                    q = reward + disc*grid.data[act(x, y)].value\n",
    "                    \n",
    "                    if q > delta:\n",
    "                        delta, best_policy = q, act\n",
    "                \n",
    "                if best_policy != c.policy:\n",
    "                    c.policy, improving = best_policy, True\n",
    "    \n",
    "        n_iters += 1\n",
    "    \n",
    "    return n_iters"
   ]
  },
  {
   "cell_type": "code",
   "execution_count": 6,
   "metadata": {},
   "outputs": [
    {
     "data": {
      "text/plain": [
       "17"
      ]
     },
     "execution_count": 6,
     "metadata": {},
     "output_type": "execute_result"
    }
   ],
   "source": [
    "iter_policies(g, theta, disc)"
   ]
  },
  {
   "cell_type": "code",
   "execution_count": 7,
   "metadata": {},
   "outputs": [
    {
     "data": {
      "text/plain": [
       "[(0, 0),\n",
       " (0, 1),\n",
       " (1, 1),\n",
       " (2, 1),\n",
       " (3, 1),\n",
       " (4, 1),\n",
       " (5, 1),\n",
       " (6, 1),\n",
       " (7, 1),\n",
       " (8, 1),\n",
       " (9, 1),\n",
       " (9, 2),\n",
       " (9, 3),\n",
       " (9, 4),\n",
       " (9, 5),\n",
       " (9, 6),\n",
       " (9, 7),\n",
       " (9, 8),\n",
       " (9, 9)]"
      ]
     },
     "execution_count": 7,
     "metadata": {},
     "output_type": "execute_result"
    }
   ],
   "source": [
    "g.best_path()"
   ]
  },
  {
   "cell_type": "code",
   "execution_count": null,
   "metadata": {},
   "outputs": [],
   "source": []
  },
  {
   "cell_type": "code",
   "execution_count": null,
   "metadata": {},
   "outputs": [],
   "source": []
  },
  {
   "cell_type": "code",
   "execution_count": null,
   "metadata": {},
   "outputs": [],
   "source": []
  },
  {
   "cell_type": "code",
   "execution_count": null,
   "metadata": {},
   "outputs": [],
   "source": []
  }
 ],
 "metadata": {
  "kernelspec": {
   "display_name": "Python 3",
   "language": "python",
   "name": "python3"
  },
  "language_info": {
   "codemirror_mode": {
    "name": "ipython",
    "version": 3
   },
   "file_extension": ".py",
   "mimetype": "text/x-python",
   "name": "python",
   "nbconvert_exporter": "python",
   "pygments_lexer": "ipython3",
   "version": "3.6.2"
  }
 },
 "nbformat": 4,
 "nbformat_minor": 2
}
