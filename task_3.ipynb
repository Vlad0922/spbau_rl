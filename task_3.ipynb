{
 "cells": [
  {
   "cell_type": "code",
   "execution_count": 235,
   "metadata": {},
   "outputs": [],
   "source": [
    "import numpy as np\n",
    "\n",
    "import itertools\n",
    "\n",
    "import matplotlib.pyplot as plt\n",
    "%matplotlib inline"
   ]
  },
  {
   "cell_type": "code",
   "execution_count": 236,
   "metadata": {},
   "outputs": [],
   "source": [
    "RANKS =      ('A',   '2',   '3',   '4',   '5',   '6',   '7',   '8',   '9',   'T',    'J',    'Q',    'K')\n",
    "VALUES_MAP = {'A':1, '2':2, '3':3, '4':4, '5':5, '6':6, '7':7, '8':8, '9':9, 'T':10, 'J':10, 'Q':10, 'K':10}"
   ]
  },
  {
   "cell_type": "code",
   "execution_count": 237,
   "metadata": {},
   "outputs": [],
   "source": [
    "#the deck is infinite\n",
    "def get_card():\n",
    "    return np.random.choice(RANKS)"
   ]
  },
  {
   "cell_type": "code",
   "execution_count": 238,
   "metadata": {},
   "outputs": [],
   "source": [
    "HIT_ACTION  = 1\n",
    "STAY_ACTION = 0\n",
    "\n",
    "def init_hand(max_value=12):\n",
    "    # we can use ace just one time\n",
    "    usable_ace = True\n",
    "    \n",
    "    value = 0\n",
    "    hand = list()\n",
    "    \n",
    "    while value < max_value:\n",
    "        card = get_card()\n",
    "        hand.append(card)\n",
    "        \n",
    "        if card == 'A' and usable_ace and value < 11:\n",
    "            value += 11\n",
    "            usable_ace = False\n",
    "        else:\n",
    "            value += VALUES_MAP[card]\n",
    "            \n",
    "    return hand, usable_ace, value"
   ]
  },
  {
   "cell_type": "code",
   "execution_count": 251,
   "metadata": {},
   "outputs": [],
   "source": [
    "class State(object):\n",
    "    def __init__(self, eps=0.05):\n",
    "        self.values = np.array([0, 0])\n",
    "        self.probs = np.array([0.5, 0.5])\n",
    "        self.actions = np.array([0, 1])\n",
    "        self.eps = 0.05\n",
    "        \n",
    "        self.returns = {0: list(), 1: list()}\n",
    "        \n",
    "    def get_action(self):\n",
    "        return np.random.choice(self.actions, p = self.probs)\n",
    "\n",
    "    def update_policy(self):\n",
    "        best_action = np.argmax(self.values)\n",
    "        worst_action = int(not best_action)\n",
    "        \n",
    "        self.probs[best_action], self.probs[worst_action] = self.eps, 1 - self.eps"
   ]
  },
  {
   "cell_type": "code",
   "execution_count": null,
   "metadata": {},
   "outputs": [],
   "source": []
  },
  {
   "cell_type": "code",
   "execution_count": 252,
   "metadata": {},
   "outputs": [],
   "source": [
    "def get_result(player, dealer):\n",
    "    if dealer > 21:\n",
    "        return 1\n",
    "    elif dealer > player:\n",
    "        return -1\n",
    "    elif dealer == player:\n",
    "        return 0\n",
    "    elif dealer < player:\n",
    "        return 1\n",
    "            \n",
    "def episode(states_map):       \n",
    "    _, usable_ace, player_value = init_hand()\n",
    "    dealer, _, dealer_value = init_hand(17)\n",
    "    dealer = dealer[~0]\n",
    "    \n",
    "    history = list()\n",
    "    \n",
    "    # initial action\n",
    "    curr_state = states_map[(player_value, usable_ace, dealer)]\n",
    "    curr_action = curr_state.get_action()\n",
    "    history.append((curr_state, curr_action))\n",
    "    \n",
    "    while player_value <= 21 and curr_action == HIT_ACTION: \n",
    "        card = get_card()\n",
    "    \n",
    "        if card == 'A' and usable_ace and player_value < 11:\n",
    "            player_value += 11\n",
    "            usable_ace = False\n",
    "        else:\n",
    "            player_value += VALUES_MAP[card]\n",
    "        \n",
    "        if player_value > 21:\n",
    "            break\n",
    "            \n",
    "        curr_state = states_map[(player_value, usable_ace, dealer)]\n",
    "        curr_action = curr_state.get_action()\n",
    "        \n",
    "        history.append((curr_state, curr_action))\n",
    "            \n",
    "    res = get_result(player_value, dealer_value)\n",
    "    \n",
    "    return history, res\n",
    "    "
   ]
  },
  {
   "cell_type": "code",
   "execution_count": 262,
   "metadata": {},
   "outputs": [],
   "source": [
    "states_map = {st:State(0.05) for st in itertools.product(np.arange(12, 22), [True, False], RANKS)}\n",
    "max_iter = 50000\n",
    "\n",
    "history_005 = list()\n",
    "for it_num in range(max_iter):\n",
    "    hist, result = episode(states_map)\n",
    "    \n",
    "    for st, act in hist:\n",
    "        st.returns[act].append(result)\n",
    "        st.values[act] = np.mean(st.returns[act])\n",
    "        st.update_policy()\n",
    "\n",
    "    history_005.append(result)"
   ]
  },
  {
   "cell_type": "code",
   "execution_count": 263,
   "metadata": {},
   "outputs": [],
   "source": [
    "states_map = {st:State(0.1) for st in itertools.product(np.arange(12, 22), [True, False], RANKS)}\n",
    "max_iter = 50000\n",
    "\n",
    "history_01 = list()\n",
    "for it_num in range(max_iter):\n",
    "    hist, result = episode(states_map)\n",
    "    \n",
    "    for st, act in hist:\n",
    "        st.returns[act].append(result)\n",
    "        st.values[act] = np.mean(st.returns[act])\n",
    "        st.update_policy()\n",
    "\n",
    "    history_01.append(result)"
   ]
  },
  {
   "cell_type": "code",
   "execution_count": 264,
   "metadata": {},
   "outputs": [],
   "source": [
    "states_map = {st:State(0.15) for st in itertools.product(np.arange(12, 22), [True, False], RANKS)}\n",
    "max_iter = 50000\n",
    "\n",
    "history_015 = list()\n",
    "for it_num in range(max_iter):\n",
    "    hist, result = episode(states_map)\n",
    "    \n",
    "    for st, act in hist:\n",
    "        st.returns[act].append(result)\n",
    "        st.values[act] = np.mean(st.returns[act])\n",
    "        st.update_policy()\n",
    "\n",
    "    history_015.append(result)"
   ]
  },
  {
   "cell_type": "code",
   "execution_count": 265,
   "metadata": {},
   "outputs": [],
   "source": [
    "states_map = {st:State(0.2) for st in itertools.product(np.arange(12, 22), [True, False], RANKS)}\n",
    "max_iter = 50000\n",
    "\n",
    "history_02 = list()\n",
    "for it_num in range(max_iter):\n",
    "    hist, result = episode(states_map)\n",
    "    \n",
    "    for st, act in hist:\n",
    "        st.returns[act].append(result)\n",
    "        st.values[act] = np.mean(st.returns[act])\n",
    "        st.update_policy()\n",
    "\n",
    "    history_02.append(result)"
   ]
  },
  {
   "cell_type": "code",
   "execution_count": 267,
   "metadata": {},
   "outputs": [
    {
     "data": {
      "text/plain": [
       "<matplotlib.legend.Legend at 0x7fec76284c88>"
      ]
     },
     "execution_count": 267,
     "metadata": {},
     "output_type": "execute_result"
    },
    {
     "data": {
      "image/png": "[encoded data removed]",
      "text/plain": [
       "<matplotlib.figure.Figure at 0x7fec75f66668>"
      ]
     },
     "metadata": {},
     "output_type": "display_data"
    }
   ],
   "source": [
    "plt.figure(figsize=(15,10))\n",
    "for h, e in zip([history_005, history_01, history_015, history_02], [0.05, 0.1, 0.15, 0.2]):\n",
    "    game_nums = np.arange(1, len(h) + 1)\n",
    "    winrate = np.cumsum(h)/game_nums\n",
    "    \n",
    "    plt.plot(game_nums, winrate, label=e)\n",
    "    \n",
    "plt.legend()\n"
   ]
  },
  {
   "cell_type": "code",
   "execution_count": null,
   "metadata": {},
   "outputs": [],
   "source": []
  },
  {
   "cell_type": "code",
   "execution_count": null,
   "metadata": {},
   "outputs": [],
   "source": []
  }
 ],
 "metadata": {
  "kernelspec": {
   "display_name": "Python 3",
   "language": "python",
   "name": "python3"
  },
  "language_info": {
   "codemirror_mode": {
    "name": "ipython",
    "version": 3
   },
   "file_extension": ".py",
   "mimetype": "text/x-python",
   "name": "python",
   "nbconvert_exporter": "python",
   "pygments_lexer": "ipython3",
   "version": "3.6.2"
  }
 },
 "nbformat": 4,
 "nbformat_minor": 2
}
